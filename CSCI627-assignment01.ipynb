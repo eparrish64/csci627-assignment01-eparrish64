{
 "cells": [
  {
   "cell_type": "markdown",
   "metadata": {},
   "source": [
    "# Python and Data\n",
    "This assignment will introduce you to using python and pandas inside a jupyter notebook for data exploration and manipulation."
   ]
  },
  {
   "cell_type": "code",
   "execution_count": null,
   "metadata": {},
   "outputs": [],
   "source": [
    "import pandas as pd\n",
    "import matplotlib.pyplot as plt\n",
    "from matplotlib import style\n",
    "style.use('ggplot')"
   ]
  },
  {
   "cell_type": "markdown",
   "metadata": {},
   "source": [
    "1. Write the required python code to load the data file `temperature.csv` into a pandas dataframe."
   ]
  },
  {
   "cell_type": "code",
   "execution_count": null,
   "metadata": {},
   "outputs": [],
   "source": [
    "# import pandas as pd\n",
    "df = pd.read_csv('temperature.csv')"
   ]
  },
  {
   "cell_type": "markdown",
   "metadata": {},
   "source": [
    "2. Write the required python code display the first 10 values of your dataframe."
   ]
  },
  {
   "cell_type": "code",
   "execution_count": null,
   "metadata": {},
   "outputs": [],
   "source": [
    "df.head(10)\n",
    "# print(df[0:10])"
   ]
  },
  {
   "cell_type": "markdown",
   "metadata": {},
   "source": [
    "3. Write the required python code to `describe` your dataframe, this will show the count, mean, standard deviation, minimum and maximum value, as well as the percentiles (0.25, 0.5, 0.75) for the temperature column."
   ]
  },
  {
   "cell_type": "code",
   "execution_count": null,
   "metadata": {},
   "outputs": [],
   "source": [
    "cnt = len(df.temperature) \n",
    "mn = df.temperature.mean()\n",
    "std = df.temperature.std()\n",
    "low = df.temperature.min()\n",
    "high = df.temperature.max()\n",
    "q25 = df.temperature.quantile(q=0.25)\n",
    "q5 = df.temperature.quantile(q=0.5)\n",
    "q75 = df.temperature.quantile(q=0.75)\n",
    "print(\"Number of data points: \\t%s\" %cnt)\n",
    "print(\"Minumum temperature: \\t%s\" %low)\n",
    "print(\"Maximum temperature: \\t%s\" %high)\n",
    "print(\"Average temperature: \\t%s +- %s\" %(mn,std))\n",
    "print(\"25th percentile: \\t%s\" %q25)\n",
    "print(\"50th percentile: \\t%s\" %q5)\n",
    "print(\"75th percentile: \\t%s\" %q75)\n",
    "\n",
    "df.describe()"
   ]
  },
  {
   "cell_type": "markdown",
   "metadata": {},
   "source": [
    "4. Write the required python code to rename the \"temperature\" column to \"Tc\". "
   ]
  },
  {
   "cell_type": "code",
   "execution_count": null,
   "metadata": {},
   "outputs": [],
   "source": [
    "df.rename(columns={'temperature':'Tc'},inplace=True)\n",
    "df.head()"
   ]
  },
  {
   "cell_type": "markdown",
   "metadata": {},
   "source": [
    "5. Write the required python code to add a new column to the dataframe that represents the equivalent temperature value in fahrenheit, you will now three columns in your dataframe. One will represent the date, the celsius value (Tc) and fahrenheit (Tf)."
   ]
  },
  {
   "cell_type": "code",
   "execution_count": null,
   "metadata": {},
   "outputs": [],
   "source": [
    "df['Tf'] = df['Tc'] * (9/5)+32\n",
    "df.head()"
   ]
  },
  {
   "cell_type": "markdown",
   "metadata": {},
   "source": [
    "6. Given the values of temperature, what can you say about the likely source of this data? Use the cell below to enter your answer, this will be text (you will need to convert the cell from code to markdown)."
   ]
  },
  {
   "cell_type": "code",
   "execution_count": null,
   "metadata": {},
   "outputs": [],
   "source": [
    "df.date = pd.to_datetime(df.date)\n",
    "plt.figure()\n",
    "df.plot('date','Tf',style='o',ms=.01)\n",
    "plt.xticks(rotation=90)\n",
    "# plt.show()\n",
    "\n",
    "# plt.figure()\n",
    "# df.plot('date','Tc',style='o',ms=.01)\n",
    "# plt.xticks(rotation=90)\n",
    "plt.show()"
   ]
  },
  {
   "cell_type": "markdown",
   "metadata": {},
   "source": [
    " The given data must be for Death Valley, or another similarly tempered place.\n",
    "The average temps in the summer are ~116 F, according to the link below.\n",
    "https://tinyurl.com/y72h3but"
   ]
  },
  {
   "cell_type": "markdown",
   "metadata": {},
   "source": [
    "7. Write the required python code to change the index for the dataframe from numerically indexed dataframe to one of date using the date column. Make sure you drop the date column once you have created new index."
   ]
  },
  {
   "cell_type": "code",
   "execution_count": null,
   "metadata": {},
   "outputs": [],
   "source": [
    "df.set_index('date',inplace=True,drop=True)\n",
    "# df.drop('date',axis=1,inplace=True)"
   ]
  },
  {
   "cell_type": "code",
   "execution_count": null,
   "metadata": {},
   "outputs": [],
   "source": [
    "# df.groupby('nodeid').head(10)\n",
    "df.head(10)"
   ]
  },
  {
   "cell_type": "markdown",
   "metadata": {},
   "source": [
    "8. Write the required python code that will calculate the range of dates that this data covers."
   ]
  },
  {
   "cell_type": "code",
   "execution_count": null,
   "metadata": {},
   "outputs": [],
   "source": [
    "mindate = df.index.min()\n",
    "maxdate = df.index.max()\n",
    "print(\"Date Range: %s to %s\" %(mindate,maxdate))"
   ]
  },
  {
   "cell_type": "markdown",
   "metadata": {},
   "source": [
    "9. Write the required python code to describe (count, mean, standard deviation, minimum and maximum value, as well as the percentiles (0.25, 0.5, 0.75)) grouped by `nodeid`."
   ]
  },
  {
   "cell_type": "code",
   "execution_count": null,
   "metadata": {},
   "outputs": [],
   "source": [
    "# x = df.sort_values(df.nodeid)\n",
    "# x.head()\n",
    "meanid = df.groupby('nodeid')['Tf'].mean()\n",
    "# print(meanid)\n",
    "cnt = len(df.groupby('nodeid')['Tf']) \n",
    "mn = df.groupby('nodeid')['Tf'].mean()\n",
    "std = df.groupby('nodeid')['Tf'].std()\n",
    "low = df.groupby('nodeid')['Tf'].min()\n",
    "high = df.groupby('nodeid')['Tf'].max()\n",
    "q25 = df.groupby('nodeid')['Tf'].quantile(q=0.25)\n",
    "q5 = df.groupby('nodeid')['Tf'].quantile(q=0.5)\n",
    "q75 = df.groupby('nodeid')['Tf'].quantile(q=0.75)\n",
    "# print(\"Number of data points: \\t%s\" %cnt)\n",
    "# print(\"Minumum temperature: \\t%s\" %low)\n",
    "# print(\"Maximum temperature: \\t%s\" %high)\n",
    "# print(\"Average temperature: \\t%s +- %s\" %(mn,std))\n",
    "# print(\"25th percentile: \\t%s\" %q25)\n",
    "# print(\"50th percentile: \\t%s\" %q5)\n",
    "# print(\"75th percentile: \\t%s\" %q75)\n",
    "\n",
    "\n",
    "df2 = pd.DataFrame([cnt,mn,std,low,high,q25,q5,q75], columns=[\"Count\",\"Mean\",\"Std\",\"Low\",\"High\",\"q25\",\"q50\",\"q75\"])\n",
    "\n",
    "# cnt = len(df.temperature) \n",
    "# mn = df.temperature.mean()\n",
    "# std = df.temperature.std()\n",
    "# low = df.temperature.min()\n",
    "# high = df.temperature.max()\n",
    "# q25 = df.temperature.quantile(q=0.25)\n",
    "# q5 = df.temperature.quantile(q=0.5)\n",
    "# q75 = df.temperature.quantile(q=0.75)\n",
    "# print(\"Number of data points: \\t%s\" %cnt)\n",
    "# print(\"Minumum temperature: \\t%s\" %low)\n",
    "# print(\"Maximum temperature: \\t%s\" %high)\n",
    "# print(\"Average temperature: \\t%s +- %s\" %(mn,std))\n",
    "# print(\"25th percentile: \\t%s\" %q25)\n",
    "# print(\"50th percentile: \\t%s\" %q5)\n",
    "# print(\"75th percentile: \\t%s\" %q75)\n"
   ]
  },
  {
   "cell_type": "markdown",
   "metadata": {},
   "source": [
    "10. Pick a node (e.g. *nodeid* = 001e061146ba) and write the required python code to extract the data for that node from the larger dataframe, display the last 10 items."
   ]
  },
  {
   "cell_type": "code",
   "execution_count": null,
   "metadata": {},
   "outputs": [],
   "source": [
    "df3 = df.loc[df['nodeid'] == \"001e061146ba\"]\n",
    "df3.tail(10)"
   ]
  },
  {
   "cell_type": "markdown",
   "metadata": {},
   "source": [
    "11.Write the required python code to resample the data of the single node returning the mean (average) for each day."
   ]
  },
  {
   "cell_type": "code",
   "execution_count": null,
   "metadata": {},
   "outputs": [],
   "source": [
    "df3.groupby(df3.index).mean()"
   ]
  },
  {
   "cell_type": "markdown",
   "metadata": {},
   "source": [
    "12. How many days worth of data is produced in the resampling? (you will need to convert the cell from code to markdown)"
   ]
  },
  {
   "cell_type": "markdown",
   "metadata": {},
   "source": []
  },
  {
   "cell_type": "markdown",
   "metadata": {},
   "source": [
    "13. Write the required python code to resample the data of the single node returning the mean for each hour, display the first 24 values."
   ]
  },
  {
   "cell_type": "code",
   "execution_count": null,
   "metadata": {},
   "outputs": [],
   "source": []
  },
  {
   "cell_type": "markdown",
   "metadata": {},
   "source": [
    "---\n",
    "# Switching Dataset (London Air - www.londonair.org.uk)\n",
    "Exploration of data that has potential problems.\n",
    "BG1 == Barking and Dagenham - Rush Green\n",
    "BQ7 == Bexley - Belvedere West\n",
    "Date: January 01, 2017 - February 01, 2017\n",
    "\n",
    "This data represents rainfall measurements at two locations within London and is measured in millimeters (mm).\n",
    "\n",
    "I have **modified** this data for purpose of learning (that is I introduced errors)."
   ]
  },
  {
   "cell_type": "markdown",
   "metadata": {},
   "source": [
    "14. Write the required python code to load the new dataset `london-rain.csv` for exploration, then using  `describe()` function what can you say about the data (enter your written answer in cell below your code, you will need to add a cell and change the cell type to markdown)."
   ]
  },
  {
   "cell_type": "code",
   "execution_count": null,
   "metadata": {},
   "outputs": [],
   "source": [
    "dflond = pd.read_csv('london-rain.csv')\n",
    "dflond.describe()"
   ]
  },
  {
   "cell_type": "code",
   "execution_count": null,
   "metadata": {},
   "outputs": [],
   "source": [
    "dflond.head()"
   ]
  },
  {
   "cell_type": "markdown",
   "metadata": {},
   "source": [
    "15. You should have noticed that there are no headers associated with the data, write the required python code to add appropriate headers to data (site, variable, date, value, units, type) and display the result of the `describe` function."
   ]
  },
  {
   "cell_type": "code",
   "execution_count": null,
   "metadata": {},
   "outputs": [],
   "source": [
    "dflond.columns = [\"site\",\"variable\",\"date\",\"value\",\"units\",\"type\"]\n",
    "dflond.describe()"
   ]
  },
  {
   "cell_type": "code",
   "execution_count": null,
   "metadata": {},
   "outputs": [],
   "source": [
    "dflond.head()"
   ]
  },
  {
   "cell_type": "markdown",
   "metadata": {},
   "source": [
    "16. What is the average value of rainfall (enter your written answer in cell below your code, you will need to change the cell type to markdown), does this value seem reasonable?"
   ]
  },
  {
   "cell_type": "code",
   "execution_count": null,
   "metadata": {},
   "outputs": [],
   "source": [
    "print(dflond.value.mean(), dflond.value.std())"
   ]
  },
  {
   "cell_type": "markdown",
   "metadata": {},
   "source": [
    "The mean amount of rainfall is ~1.67 mm.\n",
    "This is close to the average rainfall of London via https://tinyurl.com/y75fsucx\n",
    "This website states London receives 583.6 per year on average. \n",
    "The calculated average would yield 626.25 mm per year, which is about one standard deviation away. \n",
    "Based on this infornation, this is a perfectly reasonable vcalculated mean."
   ]
  },
  {
   "cell_type": "markdown",
   "metadata": {},
   "source": [
    "17. What is the minimum value of rainfall (enter your written answer in cell below your code, you will need to change the cell type to markdown), does this value seem reasonable?"
   ]
  },
  {
   "cell_type": "code",
   "execution_count": null,
   "metadata": {},
   "outputs": [],
   "source": [
    "print(dflond.value.min())"
   ]
  },
  {
   "cell_type": "markdown",
   "metadata": {},
   "source": [
    "No, it is physically impossible to rain -1 mm."
   ]
  },
  {
   "cell_type": "markdown",
   "metadata": {},
   "source": [
    "18. What is the maximum value of rainfall (enter your written answer in cell below your code, you will need to change the cell type to markdown), does this value seem reasonable?"
   ]
  },
  {
   "cell_type": "code",
   "execution_count": null,
   "metadata": {},
   "outputs": [],
   "source": [
    "print(dflond.value.max())"
   ]
  },
  {
   "cell_type": "markdown",
   "metadata": {},
   "source": [
    "No, this value is ridiculous. \n",
    "If London received 2 meters of rainfall in one day, it would cause mass havoc."
   ]
  },
  {
   "cell_type": "markdown",
   "metadata": {},
   "source": [
    "19. Write the required python code to discover if there are any missing values in the rain dataset."
   ]
  },
  {
   "cell_type": "code",
   "execution_count": null,
   "metadata": {},
   "outputs": [],
   "source": [
    "dflond.isnull().values.any()"
   ]
  },
  {
   "cell_type": "markdown",
   "metadata": {},
   "source": [
    "20. How many rows have missing values? You will need two cells, one for required python code and a second one converted to markdown to write your answer."
   ]
  },
  {
   "cell_type": "code",
   "execution_count": null,
   "metadata": {},
   "outputs": [],
   "source": [
    "dflond.isnull().sum()"
   ]
  },
  {
   "cell_type": "markdown",
   "metadata": {},
   "source": [
    "There are three rows with NaN values."
   ]
  },
  {
   "cell_type": "markdown",
   "metadata": {},
   "source": [
    "21. Write the rquired python code to remove the rows with missing values."
   ]
  },
  {
   "cell_type": "code",
   "execution_count": null,
   "metadata": {},
   "outputs": [],
   "source": [
    "dflond.dropna(inplace=True)\n",
    "dflond.isnull().sum()"
   ]
  },
  {
   "cell_type": "markdown",
   "metadata": {},
   "source": [
    "22. Write the required python code to convert the index from simple number to the date column, remove the date column."
   ]
  },
  {
   "cell_type": "code",
   "execution_count": null,
   "metadata": {
    "scrolled": true
   },
   "outputs": [],
   "source": [
    "dflond.set_index('date',inplace=True,drop=True)"
   ]
  },
  {
   "cell_type": "code",
   "execution_count": null,
   "metadata": {},
   "outputs": [],
   "source": [
    "dflond.head()"
   ]
  },
  {
   "cell_type": "markdown",
   "metadata": {},
   "source": [
    "23. Write the required python code to write out new cleaned dataset with the file name \"london-rain-clean.csv\"."
   ]
  },
  {
   "cell_type": "code",
   "execution_count": null,
   "metadata": {},
   "outputs": [],
   "source": [
    "dflond.to_csv('london-rain-clean.csv')"
   ]
  }
 ],
 "metadata": {
  "kernelspec": {
   "display_name": "Python 3",
   "language": "python",
   "name": "python3"
  },
  "language_info": {
   "codemirror_mode": {
    "name": "ipython",
    "version": 3
   },
   "file_extension": ".py",
   "mimetype": "text/x-python",
   "name": "python",
   "nbconvert_exporter": "python",
   "pygments_lexer": "ipython3",
   "version": "3.6.8"
  }
 },
 "nbformat": 4,
 "nbformat_minor": 2
}
