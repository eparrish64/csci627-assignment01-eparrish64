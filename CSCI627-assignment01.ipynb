{
 "cells": [
  {
   "cell_type": "markdown",
   "metadata": {},
   "source": [
    "# Python and Data\n",
    "This assignment will introduce you to using python and pandas inside a jupyter notebook for data exploration and manipulation."
   ]
  },
  {
   "cell_type": "code",
   "execution_count": 1,
   "metadata": {},
   "outputs": [],
   "source": [
    "import pandas as pd\n",
    "import matplotlib.pyplot as plt\n",
    "from matplotlib import style\n",
    "style.use('ggplot')"
   ]
  },
  {
   "cell_type": "markdown",
   "metadata": {},
   "source": [
    "1. Write the required python code to load the data file `temperature.csv` into a pandas dataframe."
   ]
  },
  {
   "cell_type": "code",
   "execution_count": 2,
   "metadata": {},
   "outputs": [],
   "source": [
    "import pandas as pd\n",
    "df = pd.read_csv('temperature.csv')"
   ]
  },
  {
   "cell_type": "markdown",
   "metadata": {},
   "source": [
    "2. Write the required python code display the first 10 values of your dataframe."
   ]
  },
  {
   "cell_type": "code",
   "execution_count": 3,
   "metadata": {},
   "outputs": [
    {
     "data": {
      "text/html": [
       "<div>\n",
       "<style>\n",
       "    .dataframe thead tr:only-child th {\n",
       "        text-align: right;\n",
       "    }\n",
       "\n",
       "    .dataframe thead th {\n",
       "        text-align: left;\n",
       "    }\n",
       "\n",
       "    .dataframe tbody tr th {\n",
       "        vertical-align: top;\n",
       "    }\n",
       "</style>\n",
       "<table border=\"1\" class=\"dataframe\">\n",
       "  <thead>\n",
       "    <tr style=\"text-align: right;\">\n",
       "      <th></th>\n",
       "      <th>date</th>\n",
       "      <th>nodeid</th>\n",
       "      <th>temperature</th>\n",
       "    </tr>\n",
       "  </thead>\n",
       "  <tbody>\n",
       "    <tr>\n",
       "      <th>0</th>\n",
       "      <td>2018-07-15 00:00:02-05:00</td>\n",
       "      <td>001e0610b9e9</td>\n",
       "      <td>32.10</td>\n",
       "    </tr>\n",
       "    <tr>\n",
       "      <th>1</th>\n",
       "      <td>2018-07-15 00:00:02-05:00</td>\n",
       "      <td>001e0610e537</td>\n",
       "      <td>27.10</td>\n",
       "    </tr>\n",
       "    <tr>\n",
       "      <th>2</th>\n",
       "      <td>2018-07-15 00:00:03-05:00</td>\n",
       "      <td>001e0610ee61</td>\n",
       "      <td>26.70</td>\n",
       "    </tr>\n",
       "    <tr>\n",
       "      <th>3</th>\n",
       "      <td>2018-07-15 00:00:03-05:00</td>\n",
       "      <td>001e061135cb</td>\n",
       "      <td>25.40</td>\n",
       "    </tr>\n",
       "    <tr>\n",
       "      <th>4</th>\n",
       "      <td>2018-07-15 00:00:03-05:00</td>\n",
       "      <td>001e06113f54</td>\n",
       "      <td>53.20</td>\n",
       "    </tr>\n",
       "    <tr>\n",
       "      <th>5</th>\n",
       "      <td>2018-07-15 00:00:03-05:00</td>\n",
       "      <td>001e06115365</td>\n",
       "      <td>60.60</td>\n",
       "    </tr>\n",
       "    <tr>\n",
       "      <th>6</th>\n",
       "      <td>2018-07-15 00:00:04-05:00</td>\n",
       "      <td>001e061144be</td>\n",
       "      <td>52.80</td>\n",
       "    </tr>\n",
       "    <tr>\n",
       "      <th>7</th>\n",
       "      <td>2018-07-15 00:00:05-05:00</td>\n",
       "      <td>001e0610ee41</td>\n",
       "      <td>26.25</td>\n",
       "    </tr>\n",
       "    <tr>\n",
       "      <th>8</th>\n",
       "      <td>2018-07-15 00:00:05-05:00</td>\n",
       "      <td>001e0610ee43</td>\n",
       "      <td>24.80</td>\n",
       "    </tr>\n",
       "    <tr>\n",
       "      <th>9</th>\n",
       "      <td>2018-07-15 00:00:06-05:00</td>\n",
       "      <td>001e0610bc12</td>\n",
       "      <td>57.80</td>\n",
       "    </tr>\n",
       "  </tbody>\n",
       "</table>\n",
       "</div>"
      ],
      "text/plain": [
       "                        date        nodeid  temperature\n",
       "0  2018-07-15 00:00:02-05:00  001e0610b9e9        32.10\n",
       "1  2018-07-15 00:00:02-05:00  001e0610e537        27.10\n",
       "2  2018-07-15 00:00:03-05:00  001e0610ee61        26.70\n",
       "3  2018-07-15 00:00:03-05:00  001e061135cb        25.40\n",
       "4  2018-07-15 00:00:03-05:00  001e06113f54        53.20\n",
       "5  2018-07-15 00:00:03-05:00  001e06115365        60.60\n",
       "6  2018-07-15 00:00:04-05:00  001e061144be        52.80\n",
       "7  2018-07-15 00:00:05-05:00  001e0610ee41        26.25\n",
       "8  2018-07-15 00:00:05-05:00  001e0610ee43        24.80\n",
       "9  2018-07-15 00:00:06-05:00  001e0610bc12        57.80"
      ]
     },
     "execution_count": 3,
     "metadata": {},
     "output_type": "execute_result"
    }
   ],
   "source": [
    "df.head(10)\n",
    "# print(df[0:10])"
   ]
  },
  {
   "cell_type": "markdown",
   "metadata": {},
   "source": [
    "3. Write the required python code to `describe` your dataframe, this will show the count, mean, standard deviation, minimum and maximum value, as well as the percentiles (0.25, 0.5, 0.75) for the temperature column."
   ]
  },
  {
   "cell_type": "code",
   "execution_count": 4,
   "metadata": {},
   "outputs": [
    {
     "name": "stdout",
     "output_type": "stream",
     "text": [
      "Number of data points: \t940312\n",
      "Minumum temperature: \t15.8\n",
      "Maximum temperature: \t68.5\n",
      "Average temperature: \t39.29067238319597 +- 12.96296318491709\n",
      "25th percentile: \t27.2\n",
      "50th percentile: \t35.3\n",
      "75th percentile: \t51.3\n"
     ]
    }
   ],
   "source": [
    "cnt = len(df.temperature) \n",
    "mn = df.temperature.mean()\n",
    "std = df.temperature.std()\n",
    "low = df.temperature.min()\n",
    "high = df.temperature.max()\n",
    "q25 = df.temperature.quantile(q=0.25)\n",
    "q5 = df.temperature.quantile(q=0.5)\n",
    "q75 = df.temperature.quantile(q=0.75)\n",
    "print(\"Number of data points: \\t%s\" %cnt)\n",
    "print(\"Minumum temperature: \\t%s\" %low)\n",
    "print(\"Maximum temperature: \\t%s\" %high)\n",
    "print(\"Average temperature: \\t%s +- %s\" %(mn,std))\n",
    "print(\"25th percentile: \\t%s\" %q25)\n",
    "print(\"50th percentile: \\t%s\" %q5)\n",
    "print(\"75th percentile: \\t%s\" %q75)"
   ]
  },
  {
   "cell_type": "markdown",
   "metadata": {},
   "source": [
    "4. Write the required python code to rename the \"temperature\" column to \"Tc\". "
   ]
  },
  {
   "cell_type": "code",
   "execution_count": 5,
   "metadata": {},
   "outputs": [
    {
     "data": {
      "text/html": [
       "<div>\n",
       "<style>\n",
       "    .dataframe thead tr:only-child th {\n",
       "        text-align: right;\n",
       "    }\n",
       "\n",
       "    .dataframe thead th {\n",
       "        text-align: left;\n",
       "    }\n",
       "\n",
       "    .dataframe tbody tr th {\n",
       "        vertical-align: top;\n",
       "    }\n",
       "</style>\n",
       "<table border=\"1\" class=\"dataframe\">\n",
       "  <thead>\n",
       "    <tr style=\"text-align: right;\">\n",
       "      <th></th>\n",
       "      <th>date</th>\n",
       "      <th>nodeid</th>\n",
       "      <th>Tc</th>\n",
       "    </tr>\n",
       "  </thead>\n",
       "  <tbody>\n",
       "    <tr>\n",
       "      <th>0</th>\n",
       "      <td>2018-07-15 00:00:02-05:00</td>\n",
       "      <td>001e0610b9e9</td>\n",
       "      <td>32.1</td>\n",
       "    </tr>\n",
       "    <tr>\n",
       "      <th>1</th>\n",
       "      <td>2018-07-15 00:00:02-05:00</td>\n",
       "      <td>001e0610e537</td>\n",
       "      <td>27.1</td>\n",
       "    </tr>\n",
       "    <tr>\n",
       "      <th>2</th>\n",
       "      <td>2018-07-15 00:00:03-05:00</td>\n",
       "      <td>001e0610ee61</td>\n",
       "      <td>26.7</td>\n",
       "    </tr>\n",
       "    <tr>\n",
       "      <th>3</th>\n",
       "      <td>2018-07-15 00:00:03-05:00</td>\n",
       "      <td>001e061135cb</td>\n",
       "      <td>25.4</td>\n",
       "    </tr>\n",
       "    <tr>\n",
       "      <th>4</th>\n",
       "      <td>2018-07-15 00:00:03-05:00</td>\n",
       "      <td>001e06113f54</td>\n",
       "      <td>53.2</td>\n",
       "    </tr>\n",
       "  </tbody>\n",
       "</table>\n",
       "</div>"
      ],
      "text/plain": [
       "                        date        nodeid    Tc\n",
       "0  2018-07-15 00:00:02-05:00  001e0610b9e9  32.1\n",
       "1  2018-07-15 00:00:02-05:00  001e0610e537  27.1\n",
       "2  2018-07-15 00:00:03-05:00  001e0610ee61  26.7\n",
       "3  2018-07-15 00:00:03-05:00  001e061135cb  25.4\n",
       "4  2018-07-15 00:00:03-05:00  001e06113f54  53.2"
      ]
     },
     "execution_count": 5,
     "metadata": {},
     "output_type": "execute_result"
    }
   ],
   "source": [
    "df.rename(columns={'temperature':'Tc'},inplace=True)\n",
    "df.head()"
   ]
  },
  {
   "cell_type": "markdown",
   "metadata": {},
   "source": [
    "5. Write the required python code to add a new column to the dataframe that represents the equivalent temperature value in fahrenheit, you will now three columns in your dataframe. One will represent the date, the celsius value (Tc) and fahrenheit (Tf)."
   ]
  },
  {
   "cell_type": "code",
   "execution_count": 6,
   "metadata": {},
   "outputs": [
    {
     "data": {
      "text/html": [
       "<div>\n",
       "<style>\n",
       "    .dataframe thead tr:only-child th {\n",
       "        text-align: right;\n",
       "    }\n",
       "\n",
       "    .dataframe thead th {\n",
       "        text-align: left;\n",
       "    }\n",
       "\n",
       "    .dataframe tbody tr th {\n",
       "        vertical-align: top;\n",
       "    }\n",
       "</style>\n",
       "<table border=\"1\" class=\"dataframe\">\n",
       "  <thead>\n",
       "    <tr style=\"text-align: right;\">\n",
       "      <th></th>\n",
       "      <th>date</th>\n",
       "      <th>nodeid</th>\n",
       "      <th>Tc</th>\n",
       "      <th>Tf</th>\n",
       "    </tr>\n",
       "  </thead>\n",
       "  <tbody>\n",
       "    <tr>\n",
       "      <th>0</th>\n",
       "      <td>2018-07-15 00:00:02-05:00</td>\n",
       "      <td>001e0610b9e9</td>\n",
       "      <td>32.1</td>\n",
       "      <td>89.78</td>\n",
       "    </tr>\n",
       "    <tr>\n",
       "      <th>1</th>\n",
       "      <td>2018-07-15 00:00:02-05:00</td>\n",
       "      <td>001e0610e537</td>\n",
       "      <td>27.1</td>\n",
       "      <td>80.78</td>\n",
       "    </tr>\n",
       "    <tr>\n",
       "      <th>2</th>\n",
       "      <td>2018-07-15 00:00:03-05:00</td>\n",
       "      <td>001e0610ee61</td>\n",
       "      <td>26.7</td>\n",
       "      <td>80.06</td>\n",
       "    </tr>\n",
       "    <tr>\n",
       "      <th>3</th>\n",
       "      <td>2018-07-15 00:00:03-05:00</td>\n",
       "      <td>001e061135cb</td>\n",
       "      <td>25.4</td>\n",
       "      <td>77.72</td>\n",
       "    </tr>\n",
       "    <tr>\n",
       "      <th>4</th>\n",
       "      <td>2018-07-15 00:00:03-05:00</td>\n",
       "      <td>001e06113f54</td>\n",
       "      <td>53.2</td>\n",
       "      <td>127.76</td>\n",
       "    </tr>\n",
       "  </tbody>\n",
       "</table>\n",
       "</div>"
      ],
      "text/plain": [
       "                        date        nodeid    Tc      Tf\n",
       "0  2018-07-15 00:00:02-05:00  001e0610b9e9  32.1   89.78\n",
       "1  2018-07-15 00:00:02-05:00  001e0610e537  27.1   80.78\n",
       "2  2018-07-15 00:00:03-05:00  001e0610ee61  26.7   80.06\n",
       "3  2018-07-15 00:00:03-05:00  001e061135cb  25.4   77.72\n",
       "4  2018-07-15 00:00:03-05:00  001e06113f54  53.2  127.76"
      ]
     },
     "execution_count": 6,
     "metadata": {},
     "output_type": "execute_result"
    }
   ],
   "source": [
    "df['Tf'] = df['Tc'] * (9/5)+32\n",
    "df.head()"
   ]
  },
  {
   "cell_type": "markdown",
   "metadata": {},
   "source": [
    "6. Given the values of temperature, what can you say about the likely source of this data? Use the cell below to enter your answer, this will be text (you will need to convert the cell from code to markdown)."
   ]
  },
  {
   "cell_type": "code",
   "execution_count": 8,
   "metadata": {},
   "outputs": [
    {
     "data": {
      "text/plain": [
       "<Figure size 432x288 with 0 Axes>"
      ]
     },
     "metadata": {},
     "output_type": "display_data"
    },
    {
     "data": {
      "image/png": "[encoded data removed]",
      "text/plain": [
       "<Figure size 432x288 with 1 Axes>"
      ]
     },
     "metadata": {
      "needs_background": "light"
     },
     "output_type": "display_data"
    }
   ],
   "source": [
    "df.date = pd.to_datetime(df.date)\n",
    "plt.figure()\n",
    "df.plot('date','Tf',style='o',ms=.01)\n",
    "plt.xticks(rotation=90)\n",
    "# plt.show()\n",
    "\n",
    "# plt.figure()\n",
    "# df.plot('date','Tc',style='o',ms=.01)\n",
    "# plt.xticks(rotation=90)\n",
    "plt.show()"
   ]
  },
  {
   "cell_type": "markdown",
   "metadata": {},
   "source": [
    " The given data must be for Death Valley, or another similarly tempered place.\n",
    "The average temps in the summer are ~116 F, according to the link below.\n",
    "https://tinyurl.com/y72h3but"
   ]
  },
  {
   "cell_type": "markdown",
   "metadata": {},
   "source": [
    "7. Write the required python code to change the index for the dataframe from numerically indexed dataframe to one of date using the date column. Make sure you drop the date column once you have created new index."
   ]
  },
  {
   "cell_type": "code",
   "execution_count": 13,
   "metadata": {},
   "outputs": [],
   "source": [
    "df.set_index('date',inplace=True,drop=True)\n",
    "# df.drop('date',axis=1,inplace=True)"
   ]
  },
  {
   "cell_type": "code",
   "execution_count": 14,
   "metadata": {},
   "outputs": [
    {
     "data": {
      "text/html": [
       "<div>\n",
       "<style>\n",
       "    .dataframe thead tr:only-child th {\n",
       "        text-align: right;\n",
       "    }\n",
       "\n",
       "    .dataframe thead th {\n",
       "        text-align: left;\n",
       "    }\n",
       "\n",
       "    .dataframe tbody tr th {\n",
       "        vertical-align: top;\n",
       "    }\n",
       "</style>\n",
       "<table border=\"1\" class=\"dataframe\">\n",
       "  <thead>\n",
       "    <tr style=\"text-align: right;\">\n",
       "      <th></th>\n",
       "      <th>nodeid</th>\n",
       "      <th>Tc</th>\n",
       "      <th>Tf</th>\n",
       "    </tr>\n",
       "    <tr>\n",
       "      <th>date</th>\n",
       "      <th></th>\n",
       "      <th></th>\n",
       "      <th></th>\n",
       "    </tr>\n",
       "  </thead>\n",
       "  <tbody>\n",
       "    <tr>\n",
       "      <th>2018-07-15 05:00:02</th>\n",
       "      <td>001e0610b9e9</td>\n",
       "      <td>32.10</td>\n",
       "      <td>89.78</td>\n",
       "    </tr>\n",
       "    <tr>\n",
       "      <th>2018-07-15 05:00:02</th>\n",
       "      <td>001e0610e537</td>\n",
       "      <td>27.10</td>\n",
       "      <td>80.78</td>\n",
       "    </tr>\n",
       "    <tr>\n",
       "      <th>2018-07-15 05:00:03</th>\n",
       "      <td>001e0610ee61</td>\n",
       "      <td>26.70</td>\n",
       "      <td>80.06</td>\n",
       "    </tr>\n",
       "    <tr>\n",
       "      <th>2018-07-15 05:00:03</th>\n",
       "      <td>001e061135cb</td>\n",
       "      <td>25.40</td>\n",
       "      <td>77.72</td>\n",
       "    </tr>\n",
       "    <tr>\n",
       "      <th>2018-07-15 05:00:03</th>\n",
       "      <td>001e06113f54</td>\n",
       "      <td>53.20</td>\n",
       "      <td>127.76</td>\n",
       "    </tr>\n",
       "    <tr>\n",
       "      <th>2018-07-15 05:00:03</th>\n",
       "      <td>001e06115365</td>\n",
       "      <td>60.60</td>\n",
       "      <td>141.08</td>\n",
       "    </tr>\n",
       "    <tr>\n",
       "      <th>2018-07-15 05:00:04</th>\n",
       "      <td>001e061144be</td>\n",
       "      <td>52.80</td>\n",
       "      <td>127.04</td>\n",
       "    </tr>\n",
       "    <tr>\n",
       "      <th>2018-07-15 05:00:05</th>\n",
       "      <td>001e0610ee41</td>\n",
       "      <td>26.25</td>\n",
       "      <td>79.25</td>\n",
       "    </tr>\n",
       "    <tr>\n",
       "      <th>2018-07-15 05:00:05</th>\n",
       "      <td>001e0610ee43</td>\n",
       "      <td>24.80</td>\n",
       "      <td>76.64</td>\n",
       "    </tr>\n",
       "    <tr>\n",
       "      <th>2018-07-15 05:00:06</th>\n",
       "      <td>001e0610bc12</td>\n",
       "      <td>57.80</td>\n",
       "      <td>136.04</td>\n",
       "    </tr>\n",
       "  </tbody>\n",
       "</table>\n",
       "</div>"
      ],
      "text/plain": [
       "                           nodeid     Tc      Tf\n",
       "date                                            \n",
       "2018-07-15 05:00:02  001e0610b9e9  32.10   89.78\n",
       "2018-07-15 05:00:02  001e0610e537  27.10   80.78\n",
       "2018-07-15 05:00:03  001e0610ee61  26.70   80.06\n",
       "2018-07-15 05:00:03  001e061135cb  25.40   77.72\n",
       "2018-07-15 05:00:03  001e06113f54  53.20  127.76\n",
       "2018-07-15 05:00:03  001e06115365  60.60  141.08\n",
       "2018-07-15 05:00:04  001e061144be  52.80  127.04\n",
       "2018-07-15 05:00:05  001e0610ee41  26.25   79.25\n",
       "2018-07-15 05:00:05  001e0610ee43  24.80   76.64\n",
       "2018-07-15 05:00:06  001e0610bc12  57.80  136.04"
      ]
     },
     "execution_count": 14,
     "metadata": {},
     "output_type": "execute_result"
    }
   ],
   "source": [
    "# df.groupby('nodeid').head(10)\n",
    "df.head(10)"
   ]
  },
  {
   "cell_type": "markdown",
   "metadata": {},
   "source": [
    "8. Write the required python code that will calculate the range of dates that this data covers."
   ]
  },
  {
   "cell_type": "code",
   "execution_count": 21,
   "metadata": {},
   "outputs": [
    {
     "name": "stdout",
     "output_type": "stream",
     "text": [
      "Date Range: 2018-07-15 05:00:02 to 2018-07-21 05:00:00\n"
     ]
    }
   ],
   "source": [
    "mindate = df.index.min()\n",
    "maxdate = df.index.max()\n",
    "print(\"Date Range: %s to %s\" %(mindate,maxdate))"
   ]
  },
  {
   "cell_type": "markdown",
   "metadata": {},
   "source": [
    "9. Write the required python code to describe (count, mean, standard deviation, minimum and maximum value, as well as the percentiles (0.25, 0.5, 0.75)) grouped by `nodeid`."
   ]
  },
  {
   "cell_type": "code",
   "execution_count": 30,
   "metadata": {},
   "outputs": [
    {
     "ename": "TypeError",
     "evalue": "Cannot convert input [date\n2018-07-15 05:00:02    001e0610b9e9\n2018-07-15 05:00:02    001e0610e537\n2018-07-15 05:00:03    001e0610ee61\n2018-07-15 05:00:03    001e061135cb\n2018-07-15 05:00:03    001e06113f54\n2018-07-15 05:00:03    001e06115365\n2018-07-15 05:00:04    001e061144be\n2018-07-15 05:00:05    001e0610ee41\n2018-07-15 05:00:05    001e0610ee43\n2018-07-15 05:00:06    001e0610bc12\n2018-07-15 05:00:06    001e0610e532\n2018-07-15 05:00:07    001e0610f05c\n2018-07-15 05:00:08    001e06113cf1\n2018-07-15 05:00:08    001e061146cb\n2018-07-15 05:00:09    001e06109416\n2018-07-15 05:00:09    001e061130f4\n2018-07-15 05:00:09    001e061144c0\n2018-07-15 05:00:10    001e0610eef2\n2018-07-15 05:00:10    001e06113ad8\n2018-07-15 05:00:10    001e0611462f\n2018-07-15 05:00:11    001e0610e835\n2018-07-15 05:00:11    001e06113a48\n2018-07-15 05:00:12    001e0610bbff\n2018-07-15 05:00:12    001e0610e809\n2018-07-15 05:00:13    001e0610e540\n2018-07-15 05:00:13    001e0610ef27\n2018-07-15 05:00:14    001e0610f730\n2018-07-15 05:00:14    001e06113acb\n2018-07-15 05:00:15    001e0611537d\n2018-07-15 05:00:16    001e0610ee36\n                           ...     \n2018-07-21 04:59:43    001e06113a48\n2018-07-21 04:59:44    001e06115365\n2018-07-21 04:59:45    001e06113cf1\n2018-07-21 04:59:47    001e0610b9e9\n2018-07-21 04:59:47    001e0610e835\n2018-07-21 04:59:47    001e061146d6\n2018-07-21 04:59:47    001e0611537d\n2018-07-21 04:59:48    001e0610e540\n2018-07-21 04:59:48    001e061135cb\n2018-07-21 04:59:49    001e0610bbff\n2018-07-21 04:59:49    001e0610ee82\n2018-07-21 04:59:49    001e0610f05c\n2018-07-21 04:59:50    001e06109f62\n2018-07-21 04:59:51    001e0610e532\n2018-07-21 04:59:51    001e0610e537\n2018-07-21 04:59:51    001e06113cff\n2018-07-21 04:59:51    001e06113d22\n2018-07-21 04:59:52    001e0610bbf9\n2018-07-21 04:59:52    001e061144c0\n2018-07-21 04:59:54    001e0610ba46\n2018-07-21 04:59:55    001e0610f730\n2018-07-21 04:59:56    001e0610ef27\n2018-07-21 04:59:57    001e0610ee5d\n2018-07-21 04:59:57    001e06113f54\n2018-07-21 04:59:58    001e0610bc12\n2018-07-21 04:59:59    001e0610ee36\n2018-07-21 04:59:59    001e0610eef4\n2018-07-21 04:59:59    001e061130f4\n2018-07-21 04:59:59    001e0611536c\n2018-07-21 05:00:00    001e0610ef73\nName: nodeid, Length: 940312, dtype: object] of type <class 'pandas.core.series.Series'> to Timestamp",
     "output_type": "error",
     "traceback": [
      "\u001b[0;31m---------------------------------------------------------------------------\u001b[0m",
      "\u001b[0;31mTypeError\u001b[0m                                 Traceback (most recent call last)",
      "\u001b[0;32m/opt/anaconda/lib/python3.6/site-packages/pandas/core/indexes/datetimes.py\u001b[0m in \u001b[0;36mget_loc\u001b[0;34m(self, key, method, tolerance)\u001b[0m\n\u001b[1;32m   1426\u001b[0m         \u001b[0;32mtry\u001b[0m\u001b[0;34m:\u001b[0m\u001b[0;34m\u001b[0m\u001b[0;34m\u001b[0m\u001b[0m\n\u001b[0;32m-> 1427\u001b[0;31m             \u001b[0;32mreturn\u001b[0m \u001b[0mIndex\u001b[0m\u001b[0;34m.\u001b[0m\u001b[0mget_loc\u001b[0m\u001b[0;34m(\u001b[0m\u001b[0mself\u001b[0m\u001b[0;34m,\u001b[0m \u001b[0mkey\u001b[0m\u001b[0;34m,\u001b[0m \u001b[0mmethod\u001b[0m\u001b[0;34m,\u001b[0m \u001b[0mtolerance\u001b[0m\u001b[0;34m)\u001b[0m\u001b[0;34m\u001b[0m\u001b[0;34m\u001b[0m\u001b[0m\n\u001b[0m\u001b[1;32m   1428\u001b[0m         \u001b[0;32mexcept\u001b[0m \u001b[0;34m(\u001b[0m\u001b[0mKeyError\u001b[0m\u001b[0;34m,\u001b[0m \u001b[0mValueError\u001b[0m\u001b[0;34m,\u001b[0m \u001b[0mTypeError\u001b[0m\u001b[0;34m)\u001b[0m\u001b[0;34m:\u001b[0m\u001b[0;34m\u001b[0m\u001b[0;34m\u001b[0m\u001b[0m\n",
      "\u001b[0;32m/opt/anaconda/lib/python3.6/site-packages/pandas/core/indexes/base.py\u001b[0m in \u001b[0;36mget_loc\u001b[0;34m(self, key, method, tolerance)\u001b[0m\n\u001b[1;32m   2441\u001b[0m             \u001b[0;32mtry\u001b[0m\u001b[0;34m:\u001b[0m\u001b[0;34m\u001b[0m\u001b[0;34m\u001b[0m\u001b[0m\n\u001b[0;32m-> 2442\u001b[0;31m                 \u001b[0;32mreturn\u001b[0m \u001b[0mself\u001b[0m\u001b[0;34m.\u001b[0m\u001b[0m_engine\u001b[0m\u001b[0;34m.\u001b[0m\u001b[0mget_loc\u001b[0m\u001b[0;34m(\u001b[0m\u001b[0mkey\u001b[0m\u001b[0;34m)\u001b[0m\u001b[0;34m\u001b[0m\u001b[0;34m\u001b[0m\u001b[0m\n\u001b[0m\u001b[1;32m   2443\u001b[0m             \u001b[0;32mexcept\u001b[0m \u001b[0mKeyError\u001b[0m\u001b[0;34m:\u001b[0m\u001b[0;34m\u001b[0m\u001b[0;34m\u001b[0m\u001b[0m\n",
      "\u001b[0;32mpandas/_libs/index.pyx\u001b[0m in \u001b[0;36mpandas._libs.index.DatetimeEngine.get_loc (pandas/_libs/index.c:10201)\u001b[0;34m()\u001b[0m\n",
      "\u001b[0;32mpandas/_libs/index.pyx\u001b[0m in \u001b[0;36mpandas._libs.index.DatetimeEngine.get_loc (pandas/_libs/index.c:9447)\u001b[0;34m()\u001b[0m\n",
      "\u001b[0;31mTypeError\u001b[0m: ",
      "\nDuring handling of the above exception, another exception occurred:\n",
      "\u001b[0;31mTypeError\u001b[0m                                 Traceback (most recent call last)",
      "\u001b[0;32m<ipython-input-30-a0b5fad04a52>\u001b[0m in \u001b[0;36m<module>\u001b[0;34m\u001b[0m\n\u001b[0;32m----> 1\u001b[0;31m \u001b[0mx\u001b[0m \u001b[0;34m=\u001b[0m \u001b[0mdf\u001b[0m\u001b[0;34m.\u001b[0m\u001b[0msort_values\u001b[0m\u001b[0;34m(\u001b[0m\u001b[0mdf\u001b[0m\u001b[0;34m.\u001b[0m\u001b[0mnodeid\u001b[0m\u001b[0;34m,\u001b[0m\u001b[0maxis\u001b[0m\u001b[0;34m=\u001b[0m\u001b[0;36m1\u001b[0m\u001b[0;34m)\u001b[0m\u001b[0;34m\u001b[0m\u001b[0;34m\u001b[0m\u001b[0m\n\u001b[0m\u001b[1;32m      2\u001b[0m \u001b[0mx\u001b[0m\u001b[0;34m.\u001b[0m\u001b[0mhead\u001b[0m\u001b[0;34m(\u001b[0m\u001b[0;34m)\u001b[0m\u001b[0;34m\u001b[0m\u001b[0;34m\u001b[0m\u001b[0m\n",
      "\u001b[0;32m/opt/anaconda/lib/python3.6/site-packages/pandas/core/frame.py\u001b[0m in \u001b[0;36msort_values\u001b[0;34m(self, by, axis, ascending, inplace, kind, na_position)\u001b[0m\n\u001b[1;32m   3184\u001b[0m \u001b[0;34m\u001b[0m\u001b[0m\n\u001b[1;32m   3185\u001b[0m             \u001b[0mby\u001b[0m \u001b[0;34m=\u001b[0m \u001b[0mby\u001b[0m\u001b[0;34m[\u001b[0m\u001b[0;36m0\u001b[0m\u001b[0;34m]\u001b[0m\u001b[0;34m\u001b[0m\u001b[0;34m\u001b[0m\u001b[0m\n\u001b[0;32m-> 3186\u001b[0;31m             \u001b[0mk\u001b[0m \u001b[0;34m=\u001b[0m \u001b[0mself\u001b[0m\u001b[0;34m.\u001b[0m\u001b[0mxs\u001b[0m\u001b[0;34m(\u001b[0m\u001b[0mby\u001b[0m\u001b[0;34m,\u001b[0m \u001b[0maxis\u001b[0m\u001b[0;34m=\u001b[0m\u001b[0mother_axis\u001b[0m\u001b[0;34m)\u001b[0m\u001b[0;34m.\u001b[0m\u001b[0mvalues\u001b[0m\u001b[0;34m\u001b[0m\u001b[0;34m\u001b[0m\u001b[0m\n\u001b[0m\u001b[1;32m   3187\u001b[0m             \u001b[0;32mif\u001b[0m \u001b[0mk\u001b[0m\u001b[0;34m.\u001b[0m\u001b[0mndim\u001b[0m \u001b[0;34m==\u001b[0m \u001b[0;36m2\u001b[0m\u001b[0;34m:\u001b[0m\u001b[0;34m\u001b[0m\u001b[0;34m\u001b[0m\u001b[0m\n\u001b[1;32m   3188\u001b[0m \u001b[0;34m\u001b[0m\u001b[0m\n",
      "\u001b[0;32m/opt/anaconda/lib/python3.6/site-packages/pandas/core/generic.py\u001b[0m in \u001b[0;36mxs\u001b[0;34m(self, key, axis, level, drop_level)\u001b[0m\n\u001b[1;32m   2030\u001b[0m                                                       drop_level=drop_level)\n\u001b[1;32m   2031\u001b[0m         \u001b[0;32melse\u001b[0m\u001b[0;34m:\u001b[0m\u001b[0;34m\u001b[0m\u001b[0;34m\u001b[0m\u001b[0m\n\u001b[0;32m-> 2032\u001b[0;31m             \u001b[0mloc\u001b[0m \u001b[0;34m=\u001b[0m \u001b[0mself\u001b[0m\u001b[0;34m.\u001b[0m\u001b[0mindex\u001b[0m\u001b[0;34m.\u001b[0m\u001b[0mget_loc\u001b[0m\u001b[0;34m(\u001b[0m\u001b[0mkey\u001b[0m\u001b[0;34m)\u001b[0m\u001b[0;34m\u001b[0m\u001b[0;34m\u001b[0m\u001b[0m\n\u001b[0m\u001b[1;32m   2033\u001b[0m \u001b[0;34m\u001b[0m\u001b[0m\n\u001b[1;32m   2034\u001b[0m             \u001b[0;32mif\u001b[0m \u001b[0misinstance\u001b[0m\u001b[0;34m(\u001b[0m\u001b[0mloc\u001b[0m\u001b[0;34m,\u001b[0m \u001b[0mnp\u001b[0m\u001b[0;34m.\u001b[0m\u001b[0mndarray\u001b[0m\u001b[0;34m)\u001b[0m\u001b[0;34m:\u001b[0m\u001b[0;34m\u001b[0m\u001b[0;34m\u001b[0m\u001b[0m\n",
      "\u001b[0;32m/opt/anaconda/lib/python3.6/site-packages/pandas/core/indexes/datetimes.py\u001b[0m in \u001b[0;36mget_loc\u001b[0;34m(self, key, method, tolerance)\u001b[0m\n\u001b[1;32m   1433\u001b[0m \u001b[0;34m\u001b[0m\u001b[0m\n\u001b[1;32m   1434\u001b[0m             \u001b[0;32mtry\u001b[0m\u001b[0;34m:\u001b[0m\u001b[0;34m\u001b[0m\u001b[0;34m\u001b[0m\u001b[0m\n\u001b[0;32m-> 1435\u001b[0;31m                 \u001b[0mstamp\u001b[0m \u001b[0;34m=\u001b[0m \u001b[0mTimestamp\u001b[0m\u001b[0;34m(\u001b[0m\u001b[0mkey\u001b[0m\u001b[0;34m,\u001b[0m \u001b[0mtz\u001b[0m\u001b[0;34m=\u001b[0m\u001b[0mself\u001b[0m\u001b[0;34m.\u001b[0m\u001b[0mtz\u001b[0m\u001b[0;34m)\u001b[0m\u001b[0;34m\u001b[0m\u001b[0;34m\u001b[0m\u001b[0m\n\u001b[0m\u001b[1;32m   1436\u001b[0m                 \u001b[0;32mreturn\u001b[0m \u001b[0mIndex\u001b[0m\u001b[0;34m.\u001b[0m\u001b[0mget_loc\u001b[0m\u001b[0;34m(\u001b[0m\u001b[0mself\u001b[0m\u001b[0;34m,\u001b[0m \u001b[0mstamp\u001b[0m\u001b[0;34m,\u001b[0m \u001b[0mmethod\u001b[0m\u001b[0;34m,\u001b[0m \u001b[0mtolerance\u001b[0m\u001b[0;34m)\u001b[0m\u001b[0;34m\u001b[0m\u001b[0;34m\u001b[0m\u001b[0m\n\u001b[1;32m   1437\u001b[0m             \u001b[0;32mexcept\u001b[0m \u001b[0;34m(\u001b[0m\u001b[0mKeyError\u001b[0m\u001b[0;34m,\u001b[0m \u001b[0mValueError\u001b[0m\u001b[0;34m)\u001b[0m\u001b[0;34m:\u001b[0m\u001b[0;34m\u001b[0m\u001b[0;34m\u001b[0m\u001b[0m\n",
      "\u001b[0;32mpandas/_libs/tslib.pyx\u001b[0m in \u001b[0;36mpandas._libs.tslib.Timestamp.__new__ (pandas/_libs/tslib.c:10051)\u001b[0;34m()\u001b[0m\n",
      "\u001b[0;32mpandas/_libs/tslib.pyx\u001b[0m in \u001b[0;36mpandas._libs.tslib.convert_to_tsobject (pandas/_libs/tslib.c:28851)\u001b[0;34m()\u001b[0m\n",
      "\u001b[0;31mTypeError\u001b[0m: Cannot convert input [date\n2018-07-15 05:00:02    001e0610b9e9\n2018-07-15 05:00:02    001e0610e537\n2018-07-15 05:00:03    001e0610ee61\n2018-07-15 05:00:03    001e061135cb\n2018-07-15 05:00:03    001e06113f54\n2018-07-15 05:00:03    001e06115365\n2018-07-15 05:00:04    001e061144be\n2018-07-15 05:00:05    001e0610ee41\n2018-07-15 05:00:05    001e0610ee43\n2018-07-15 05:00:06    001e0610bc12\n2018-07-15 05:00:06    001e0610e532\n2018-07-15 05:00:07    001e0610f05c\n2018-07-15 05:00:08    001e06113cf1\n2018-07-15 05:00:08    001e061146cb\n2018-07-15 05:00:09    001e06109416\n2018-07-15 05:00:09    001e061130f4\n2018-07-15 05:00:09    001e061144c0\n2018-07-15 05:00:10    001e0610eef2\n2018-07-15 05:00:10    001e06113ad8\n2018-07-15 05:00:10    001e0611462f\n2018-07-15 05:00:11    001e0610e835\n2018-07-15 05:00:11    001e06113a48\n2018-07-15 05:00:12    001e0610bbff\n2018-07-15 05:00:12    001e0610e809\n2018-07-15 05:00:13    001e0610e540\n2018-07-15 05:00:13    001e0610ef27\n2018-07-15 05:00:14    001e0610f730\n2018-07-15 05:00:14    001e06113acb\n2018-07-15 05:00:15    001e0611537d\n2018-07-15 05:00:16    001e0610ee36\n                           ...     \n2018-07-21 04:59:43    001e06113a48\n2018-07-21 04:59:44    001e06115365\n2018-07-21 04:59:45    001e06113cf1\n2018-07-21 04:59:47    001e0610b9e9\n2018-07-21 04:59:47    001e0610e835\n2018-07-21 04:59:47    001e061146d6\n2018-07-21 04:59:47    001e0611537d\n2018-07-21 04:59:48    001e0610e540\n2018-07-21 04:59:48    001e061135cb\n2018-07-21 04:59:49    001e0610bbff\n2018-07-21 04:59:49    001e0610ee82\n2018-07-21 04:59:49    001e0610f05c\n2018-07-21 04:59:50    001e06109f62\n2018-07-21 04:59:51    001e0610e532\n2018-07-21 04:59:51    001e0610e537\n2018-07-21 04:59:51    001e06113cff\n2018-07-21 04:59:51    001e06113d22\n2018-07-21 04:59:52    001e0610bbf9\n2018-07-21 04:59:52    001e061144c0\n2018-07-21 04:59:54    001e0610ba46\n2018-07-21 04:59:55    001e0610f730\n2018-07-21 04:59:56    001e0610ef27\n2018-07-21 04:59:57    001e0610ee5d\n2018-07-21 04:59:57    001e06113f54\n2018-07-21 04:59:58    001e0610bc12\n2018-07-21 04:59:59    001e0610ee36\n2018-07-21 04:59:59    001e0610eef4\n2018-07-21 04:59:59    001e061130f4\n2018-07-21 04:59:59    001e0611536c\n2018-07-21 05:00:00    001e0610ef73\nName: nodeid, Length: 940312, dtype: object] of type <class 'pandas.core.series.Series'> to Timestamp"
     ]
    }
   ],
   "source": [
    "x = df.sort_values(df.nodeid,axis=1)\n",
    "x.head()"
   ]
  },
  {
   "cell_type": "markdown",
   "metadata": {},
   "source": [
    "10. Pick a node (e.g. *nodeid* = 001e061146ba) and write the required python code to extract the data for that node from the larger dataframe, display the last 10 items."
   ]
  },
  {
   "cell_type": "code",
   "execution_count": null,
   "metadata": {},
   "outputs": [],
   "source": []
  },
  {
   "cell_type": "markdown",
   "metadata": {},
   "source": [
    "11.Write the required python code to resample the data of the single node returning the mean (average) for each day."
   ]
  },
  {
   "cell_type": "code",
   "execution_count": null,
   "metadata": {},
   "outputs": [],
   "source": []
  },
  {
   "cell_type": "markdown",
   "metadata": {},
   "source": [
    "12. How many days worth of data is produced in the resampling? (you will need to convert the cell from code to markdown)"
   ]
  },
  {
   "cell_type": "code",
   "execution_count": null,
   "metadata": {},
   "outputs": [],
   "source": []
  },
  {
   "cell_type": "markdown",
   "metadata": {},
   "source": [
    "13. Write the required python code to resample the data of the single node returning the mean for each hour, display the first 24 values."
   ]
  },
  {
   "cell_type": "code",
   "execution_count": null,
   "metadata": {},
   "outputs": [],
   "source": []
  },
  {
   "cell_type": "markdown",
   "metadata": {},
   "source": [
    "---\n",
    "# Switching Dataset (London Air - www.londonair.org.uk)\n",
    "Exploration of data that has potential problems.\n",
    "BG1 == Barking and Dagenham - Rush Green\n",
    "BQ7 == Bexley - Belvedere West\n",
    "Date: January 01, 2017 - February 01, 2017\n",
    "\n",
    "This data represents rainfall measurements at two locations within London and is measured in millimeters (mm).\n",
    "\n",
    "I have **modified** this data for purpose of learning (that is I introduced errors)."
   ]
  },
  {
   "cell_type": "markdown",
   "metadata": {},
   "source": [
    "14. Write the required python code to load the new dataset `london-rain.csv` for exploration, then using  `describe()` function what can you say about the data (enter your written answer in cell below your code, you will need to add a cell and change the cell type to markdown)."
   ]
  },
  {
   "cell_type": "code",
   "execution_count": null,
   "metadata": {},
   "outputs": [],
   "source": []
  },
  {
   "cell_type": "markdown",
   "metadata": {},
   "source": [
    "15. You should have noticed that there are no headers associated with the data, write the required python code to add appropriate headers to data (site, variable, date, value, units, type) and display the result of the `describe` function."
   ]
  },
  {
   "cell_type": "code",
   "execution_count": null,
   "metadata": {},
   "outputs": [],
   "source": []
  },
  {
   "cell_type": "markdown",
   "metadata": {},
   "source": [
    "16. What is the average value of rainfall (enter your written answer in cell below your code, you will need to change the cell type to markdown), does this value seem reasonable?"
   ]
  },
  {
   "cell_type": "code",
   "execution_count": null,
   "metadata": {},
   "outputs": [],
   "source": []
  },
  {
   "cell_type": "markdown",
   "metadata": {},
   "source": [
    "17. What is the minimum value of rainfall (enter your written answer in cell below your code, you will need to change the cell type to markdown), does this value seem reasonable?"
   ]
  },
  {
   "cell_type": "code",
   "execution_count": null,
   "metadata": {},
   "outputs": [],
   "source": []
  },
  {
   "cell_type": "markdown",
   "metadata": {},
   "source": [
    "18. What is the maximum value of rainfall (enter your written answer in cell below your code, you will need to change the cell type to markdown), does this value seem reasonable?"
   ]
  },
  {
   "cell_type": "code",
   "execution_count": null,
   "metadata": {},
   "outputs": [],
   "source": []
  },
  {
   "cell_type": "markdown",
   "metadata": {},
   "source": [
    "19. Write the required python code to discover if there are any missing values in the rain dataset."
   ]
  },
  {
   "cell_type": "code",
   "execution_count": null,
   "metadata": {},
   "outputs": [],
   "source": []
  },
  {
   "cell_type": "markdown",
   "metadata": {},
   "source": [
    "20. How many rows have missing values? You will need two cells, one for required python code and a second one converted to markdown to write your answer."
   ]
  },
  {
   "cell_type": "code",
   "execution_count": null,
   "metadata": {},
   "outputs": [],
   "source": []
  },
  {
   "cell_type": "markdown",
   "metadata": {},
   "source": [
    "21. Write the rquired python code to remove the rows with missing values."
   ]
  },
  {
   "cell_type": "code",
   "execution_count": null,
   "metadata": {},
   "outputs": [],
   "source": []
  },
  {
   "cell_type": "markdown",
   "metadata": {},
   "source": [
    "22. Write the required python code to convert the index from simple number to the date column, remove the date column."
   ]
  },
  {
   "cell_type": "code",
   "execution_count": null,
   "metadata": {},
   "outputs": [],
   "source": []
  },
  {
   "cell_type": "markdown",
   "metadata": {},
   "source": [
    "23. Write the required python code to write out new cleaned dataset with the file name \"london-rain-clean.csv\"."
   ]
  },
  {
   "cell_type": "code",
   "execution_count": null,
   "metadata": {},
   "outputs": [],
   "source": []
  }
 ],
 "metadata": {
  "kernelspec": {
   "display_name": "Python 3",
   "language": "python",
   "name": "python3"
  },
  "language_info": {
   "codemirror_mode": {
    "name": "ipython",
    "version": 3
   },
   "file_extension": ".py",
   "mimetype": "text/x-python",
   "name": "python",
   "nbconvert_exporter": "python",
   "pygments_lexer": "ipython3",
   "version": "3.6.8"
  }
 },
 "nbformat": 4,
 "nbformat_minor": 2
}
